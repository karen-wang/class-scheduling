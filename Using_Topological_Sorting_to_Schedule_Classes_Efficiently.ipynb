{
  "nbformat": 4,
  "nbformat_minor": 0,
  "metadata": {
    "colab": {
      "provenance": [],
      "authorship_tag": "ABX9TyNKj5As9YZjMyEvjkLLsF+E",
      "include_colab_link": true
    },
    "kernelspec": {
      "name": "python3",
      "display_name": "Python 3"
    },
    "language_info": {
      "name": "python"
    }
  },
  "cells": [
    {
      "cell_type": "markdown",
      "metadata": {
        "id": "view-in-github",
        "colab_type": "text"
      },
      "source": [
        "<a href=\"https://colab.research.google.com/github/karen-wang/class-scheduling/blob/main/Using_Topological_Sorting_to_Schedule_Classes_Efficiently.ipynb\" target=\"_parent\"><img src=\"https://colab.research.google.com/assets/colab-badge.svg\" alt=\"Open In Colab\"/></a>"
      ]
    },
    {
      "cell_type": "markdown",
      "source": [
        "# Using Topological Sorting to Schedule Classes Efficiently\n",
        "*by Karen Y. Wang on April 4th, 2023*\n",
        "\n",
        "As a student, you probably have a list of classes that you need to take in order to graduate. Also, many of those classes likely have prerequisites. Since you are not allowed to take a class before completing its prequisites, how do you figure out a correct order of classes to take? One efficient and elegant solution uses an approach called **topological sorting**. In this tutorial, we will explain how to use topological sorting to write a class-scheduling Python function."
      ],
      "metadata": {
        "id": "HtESQew7I_vH"
      }
    },
    {
      "cell_type": "markdown",
      "source": [
        "## Overview\n",
        "\n",
        "### Audience\n",
        "\n",
        "This tutorial is for university computer science students who are familiar with the following topics:\n",
        "- Programming\n",
        "- Data structures including graphs\n",
        "- Combinatorics\n",
        "- Complexity analysis"
      ],
      "metadata": {
        "id": "lsgiKd1P2VPA"
      }
    },
    {
      "cell_type": "markdown",
      "source": [
        "### What this document covers\n",
        "- Explanation of what topological sorting is and why it's useful\n",
        "- Application of topological sorting to a class-scheduling problem\n",
        "\n",
        "### What this document doesn't cover\n",
        "- Detailed implementation of topological sorting"
      ],
      "metadata": {
        "id": "Off6P9tP2nY-"
      }
    },
    {
      "cell_type": "markdown",
      "source": [
        "## Input\n",
        "\n",
        "Our input will be a Python dictionary containing classes and their prequisites, if any."
      ],
      "metadata": {
        "id": "PIJquw8jLaY8"
      }
    },
    {
      "cell_type": "code",
      "execution_count": 5,
      "metadata": {
        "id": "7ZS0feN1I9AH"
      },
      "outputs": [],
      "source": [
        "classes = {\n",
        "    \"Intro to Programming\": [],\n",
        "    \"Computer Systems\": [\"Intro to Programming\"],\n",
        "    \"Discrete Math\": [],\n",
        "    \"Probability\": [\"Discrete Math\"],\n",
        "    \"Algorithms\": [\"Computer Systems\", \"Discrete Math\"],\n",
        "}"
      ]
    },
    {
      "cell_type": "markdown",
      "source": [
        "## Output\n",
        "\n",
        "We will output a list of classes that, if taken in-order, ensures all prequisites are satisfied. There might be many correct outputs—returning just one of them is enough. For the input above, a correct output is below:\n",
        "\n",
        "```\n",
        "Intro to Programming\n",
        "Discrete Math\n",
        "Computer Systems\n",
        "Probability\n",
        "Algorithms\n",
        "```"
      ],
      "metadata": {
        "id": "uhapZRVNOGr2"
      }
    },
    {
      "cell_type": "markdown",
      "source": [
        "## An Inefficient Approach\n",
        "\n",
        "Let's first explore a naive solution that does not use topological sorting and is relatively inefficient. The approach is to generate all possible orderings of classes, and return the first one that fulfills all prequisites.\n",
        "\n",
        "Here is some code that implements this solution."
      ],
      "metadata": {
        "id": "CKWpsUB8RhEC"
      }
    },
    {
      "cell_type": "code",
      "source": [
        "import itertools\n",
        "from typing import Collection, Dict, List, Optional, Set\n",
        "\n",
        "\n",
        "def prereqs_are_satisfied(class_ordering: List[str],\n",
        "                          classes: Dict[str, Collection[str]]) -> bool:\n",
        "  \"\"\"Returns whether or not the prereqs are satisfied for the given class ordering.\"\"\"\n",
        "  # Keep track of which classes we've already taken.\n",
        "  classes_taken = set()\n",
        "  for classname in class_ordering:\n",
        "    prereqs = set(classes[classname])\n",
        "    # {}.issubset({'Class A'})                     --> True\n",
        "    # {'Class A'}.issubset({'Class A'})            --> True\n",
        "    # {'Class A'}.issubset({'Class A', 'Class B'}) --> True\n",
        "    # {'Class A'}.issubset({})                     --> False\n",
        "    if prereqs.issubset(classes_taken):\n",
        "      classes_taken.add(classname)\n",
        "      continue\n",
        "    else:\n",
        "      return False\n",
        "  return True\n",
        "\n",
        "def solve_using_naive_approach(classes: Dict[str, Collection[str]]) -> List[str]:\n",
        "  \"\"\"Returns a correct ordering of classes.\"\"\"\n",
        "  # itertools.permutations('ABC') --> ABC, ACB, BAC, BCA, CAB, CBA\n",
        "  for class_ordering in itertools.permutations(classes.keys()):\n",
        "    if prereqs_are_satisfied(class_ordering, classes):\n",
        "      # Return the first class ordering that satisfies prereqs.\n",
        "      return class_ordering\n",
        "  raise ValueError(\"No valid class ordering could be found.\")"
      ],
      "metadata": {
        "id": "Y0y9xXYWTQk0"
      },
      "execution_count": 6,
      "outputs": []
    },
    {
      "cell_type": "code",
      "source": [
        "print(solve_using_naive_approach(classes))"
      ],
      "metadata": {
        "colab": {
          "base_uri": "https://localhost:8080/"
        },
        "id": "pn7UwxNPGx_O",
        "outputId": "4c597797-de79-40c6-82f9-ee76664b9958"
      },
      "execution_count": 7,
      "outputs": [
        {
          "output_type": "stream",
          "name": "stdout",
          "text": [
            "('Intro to Programming', 'Computer Systems', 'Discrete Math', 'Probability', 'Algorithms')\n"
          ]
        }
      ]
    },
    {
      "cell_type": "markdown",
      "source": [
        "First, let's analyze the time complexity of the `prereqs_are_satisfied` helper function. Let N represent the number of classes in class_ordering. Assuming that `issubset()` runs in constant time, this function runs in `O(N)` time.\n",
        "\n",
        "Next, let's analyze the main function, `solve_using_naive_approach`. Since `N` represents the number of classes, there are `N!` possible permutations of classes. For each possible permutation we call the `prereqs_are_satisfied` helper function. So the time complexity of our naive solution is `O(N! * N)`."
      ],
      "metadata": {
        "id": "6Ui6XBD-2O1L"
      }
    },
    {
      "cell_type": "markdown",
      "source": [
        "## What is Topological Sorting?"
      ],
      "metadata": {
        "id": "DLMkCiy3dIzA"
      }
    },
    {
      "cell_type": "markdown",
      "source": [
        "### Topological Maps\n",
        "\n",
        "To understand the concept behind topological sorting, let us first look at **topological maps**. In cartography, a topological map is a simplified map which only keeps information relevant to the viewer. One example is a subway map, which displays information that a subway rider would be interested in such as lines and station names. On the other hand, it removes unnecessary details such as aboveground roads."
      ],
      "metadata": {
        "id": "_n61urbldZw9"
      }
    },
    {
      "cell_type": "markdown",
      "source": [
        "<img src=\"https://drive.google.com/uc?id=1BcwLcbAo301FaNVbP8qy4ys_ku6GZX9p\" height=\"150\" alt=\"San Francisco subway map.\">"
      ],
      "metadata": {
        "id": "t5gdwVqu8gXm"
      }
    },
    {
      "cell_type": "markdown",
      "source": [
        "How does this apply to our class-scheduling problem? Well, let's try drawing the relationship between classes and their prerequisites as a diagram."
      ],
      "metadata": {
        "id": "iYxu4BXC8e1K"
      }
    },
    {
      "cell_type": "markdown",
      "source": [
        "<div><img src=\"https://drive.google.com/uc?id=1FLZZnfFB2tkeKtimh5L56DQOdEJvObS0\" alt=\"Drawing\" height=100/>\n",
        "</div>"
      ],
      "metadata": {
        "id": "bdxBPMA2Tybg"
      }
    },
    {
      "cell_type": "markdown",
      "source": [
        "As you can see, this diagram is actually a topological map of dependencies between classes. An incoming arrow represents a dependency. For example, in order to take `Computer Systems`, we need to first take `Intro to Programming`.\n",
        "\n",
        "### Directed Acylic Graphs (DAGs)\n",
        "\n",
        "Computer scientists have another name for this type of map: a **directed acylic graph**, or **DAG** for short. Recall that a graph consists of a set of **nodes** and a set of **edges** between those nodes. In an undirected graph, edges are non-directional and are typically represented as lines. In a directed graph, however, edges are directional, and are typically represented as arrows (like in the diagram above).\n",
        "\n",
        "A DAG is a special type of directed graph that does not contain any cycles. In other words, there are no closed loops within the graph. \n",
        "\n",
        "Why is this important? Imagine if there was a closed loop in the graph. "
      ],
      "metadata": {
        "id": "voPfJ2wZi7cn"
      }
    },
    {
      "cell_type": "markdown",
      "source": [
        "<img src=\"https://drive.google.com/uc?id=1FLZZnfFB2tkeKtimh5L56DQOdEJvObS0\" height=\"150\" alt=\"Class dependency diagram containing a cycle.\">"
      ],
      "metadata": {
        "id": "eB4fZh0k6hTE"
      }
    },
    {
      "cell_type": "markdown",
      "source": [
        "This graph is directed but contains a cycle. It is not a DAG. According to this graph, you would need to take `Class A` before `Class B`, and `Class B` before `Class C`. But, you would also need to take `Class C` before `Class A`! This is impossible. If your class list looks like this, you should probably complain to the advising department."
      ],
      "metadata": {
        "id": "DxRriJTRyxoR"
      }
    },
    {
      "cell_type": "markdown",
      "source": [
        "### Topological Ordering\n",
        "\n",
        "We've established that the dependencies between classes can be represented as a DAG. An important property of a DAG is that it always contain at least one **topological ordering**. A topological ordering of a directed graph is a list of nodes that, if traversed in-order, ensures that all arrows are \"followed\" in the right direction. For example, a topological ordering of the graph below is `Intro to Programming`, `Discrete Math`, `Computer Systems`, `Probability`, and `Algorithms`."
      ],
      "metadata": {
        "id": "R4zTJm9H0Vxe"
      }
    },
    {
      "cell_type": "markdown",
      "source": [
        "<img src=\"https://drive.google.com/uc?id=1Rtx4a4yZlDJ9DLsJ0mTIH3c8iOMAIMcf\" height=\"150\" alt=\"Diagram showing dependencies between classes.\">"
      ],
      "metadata": {
        "id": "OIkIjgEY7i0g"
      }
    },
    {
      "cell_type": "markdown",
      "source": [
        "Does this list look familiar to you? This list, in fact, can also be interpreted as a correct ordering of classes to take to ensure all prequisites are fulfilled. This is exactly the output that we want to return in our class-scheduling function!"
      ],
      "metadata": {
        "id": "6sbvU1k07hDO"
      }
    },
    {
      "cell_type": "markdown",
      "source": [
        "### Implementation Overview\n",
        "\n",
        "To find a topological ordering of a DAG, we need to perform a topological sort. There are a number of different ways to implement topological sorting. The Python graph library [`networkx`](https://networkx.org) uses an approach called Kahn's algorithm. The algorithm pseudocode is below.\n",
        "\n",
        "```\n",
        "L <- Empty list that will contain the sorted elements\n",
        "S <- Set of all nodes with no incoming edge\n",
        "\n",
        "while S is not empty do\n",
        "    remove a node N from S\n",
        "    add N to L\n",
        "    for each node M with an edge E from N to M do\n",
        "        remove edge E from the graph\n",
        "        if M has no other incoming edges then\n",
        "            insert M into S\n",
        "\n",
        "if graph has edges then\n",
        "    return error  # graph has at least one cycle\n",
        "else \n",
        "    return L  # a topologically sorted order\n",
        "```\n",
        "\n",
        "At a high level, we first find the set of all nodes with no incoming edges. Recall that an incoming edge represents a dependency. Therefore, this set can also be thought of as all nodes with no dependencies. In the context of our class-scheduling problem, these are all classes with no prerequisites (`Intro to Programming` and `Discrete Math`).\n",
        "\n",
        "We continuously add nodes to the set by following edges to connected nodes. A connected node represents a class whose prequisites we have already fulfilled, so we can add it our set. We keep on doing this until no nodes remain.\n",
        "\n",
        "The runtime of Kahn's algorithm is efficient: `O(N + E)`, where `N` is the number of nodes and `E` is the number of edges."
      ],
      "metadata": {
        "id": "nxAWFxGq7yYl"
      }
    },
    {
      "cell_type": "markdown",
      "source": [
        "### The Final Solution\n",
        "\n",
        "To wrap-up this tutorial, let's use the `networkx` implementation of topological sort to write a class-scheduling function."
      ],
      "metadata": {
        "id": "PVVIEWJgD1y2"
      }
    },
    {
      "cell_type": "code",
      "source": [
        "import networkx\n",
        "\n",
        "from typing import Collection, Dict, List\n",
        "\n",
        "def build_graph(classes: Dict[str, Collection[str]]) -> networkx.DiGraph:\n",
        "  G = networkx.DiGraph()  # Create an empty directed graph.\n",
        "  for classname, prereqs in classes.items():\n",
        "    G.add_node(classname)\n",
        "    for prereq in prereqs:\n",
        "      G.add_edge(prereq, classname)\n",
        "  return G\n",
        "\n",
        "def solve_using_topological_sort(classes: Dict[str, Collection[str]]) -> List[str]:\n",
        "  \"\"\"Returns a correct ordering of classes.\"\"\"\n",
        "  G = build_graph(classes)\n",
        "  return list(networkx.topological_sort(G))\n",
        "  "
      ],
      "metadata": {
        "id": "PJZZG3rbEMuy"
      },
      "execution_count": 2,
      "outputs": []
    },
    {
      "cell_type": "code",
      "source": [
        "print(solve_using_topological_sort(classes))"
      ],
      "metadata": {
        "colab": {
          "base_uri": "https://localhost:8080/"
        },
        "id": "ZvKrrA8QFMyB",
        "outputId": "827bf719-cece-43b5-d06a-02aac06604ec"
      },
      "execution_count": 4,
      "outputs": [
        {
          "output_type": "stream",
          "name": "stdout",
          "text": [
            "['Intro to Programming', 'Discrete Math', 'Computer Systems', 'Probability', 'Algorithms']\n"
          ]
        }
      ]
    },
    {
      "cell_type": "markdown",
      "source": [
        "## Conclusion\n",
        "\n",
        "In summary, topological sorting is an efficient approach to scheduling classes. This approach can also be used for many other dependency-resolution problems. Try it out for yourself!\n",
        "\n",
        "### Further reading\n",
        "For more details about the implementation of Kahn's algorithm, please refer to the official [`networkx` guide](https://networkx.org/nx-guides/content/algorithms/dag/index.html)."
      ],
      "metadata": {
        "id": "vmoM9kDgG8dO"
      }
    }
  ]
}