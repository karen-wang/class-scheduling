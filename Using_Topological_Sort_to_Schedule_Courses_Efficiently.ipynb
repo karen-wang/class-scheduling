{
  "nbformat": 4,
  "nbformat_minor": 0,
  "metadata": {
    "colab": {
      "provenance": [],
      "authorship_tag": "ABX9TyPE5K/P2hqnNz3f7X9qmnEc",
      "include_colab_link": true
    },
    "kernelspec": {
      "name": "python3",
      "display_name": "Python 3"
    },
    "language_info": {
      "name": "python"
    }
  },
  "cells": [
    {
      "cell_type": "markdown",
      "metadata": {
        "id": "view-in-github",
        "colab_type": "text"
      },
      "source": [
        "<a href=\"https://colab.research.google.com/github/karen-wang/class-scheduling/blob/main/Using_Topological_Sort_to_Schedule_Courses_Efficiently.ipynb\" target=\"_parent\"><img src=\"https://colab.research.google.com/assets/colab-badge.svg\" alt=\"Open In Colab\"/></a>"
      ]
    },
    {
      "cell_type": "markdown",
      "source": [
        "# Using Topological Sort to Schedule Courses Efficiently\n",
        "*Author: [Karen Wang](https://github.com/karen-wang)*<br/>\n",
        "*Last Edited: April 11th, 2023*<br/>\n",
        "\n",
        "As a student, you probably have a list of courses that you need to take in order to graduate. Many of those courses also likely have prerequisites. Since you can't take a course before completing its prerequisites, how do you figure out a valid sequence of courses to take? One approach uses an algorithm called **topological sorting**. In this tutorial, we will explain how to use topological sorting to write a course-scheduling Python function."
      ],
      "metadata": {
        "id": "HtESQew7I_vH"
      }
    },
    {
      "cell_type": "markdown",
      "source": [
        "## Overview\n",
        "\n",
        "### Audience\n",
        "\n",
        "This tutorial is intended for computer science students who are familiar with the following topics:\n",
        "- Complexity analysis\n",
        "- Data structures, particularly graphs\n",
        "- Programming"
      ],
      "metadata": {
        "id": "lsgiKd1P2VPA"
      }
    },
    {
      "cell_type": "markdown",
      "source": [
        "### What this tutorial covers\n",
        "- Explanation of what topological sorting is and why it's useful\n",
        "- Application of topological sorting to a course-scheduling problem\n",
        "\n",
        "### What this tutorial doesn't cover\n",
        "- Detailed implementation of topological sorting"
      ],
      "metadata": {
        "id": "Off6P9tP2nY-"
      }
    },
    {
      "cell_type": "markdown",
      "source": [
        "## Input\n",
        "\n",
        "Our input will be a Python dictionary representing a catalog of courses required to graduate. \n",
        "The catalog maps each course to a set of its prerequisites, if any."
      ],
      "metadata": {
        "id": "PIJquw8jLaY8"
      }
    },
    {
      "cell_type": "code",
      "execution_count": 1,
      "metadata": {
        "id": "7ZS0feN1I9AH"
      },
      "outputs": [],
      "source": [
        "course_catalog = {\n",
        "    \"Intro to Programming\": {},\n",
        "    \"Computer Systems\": {\"Intro to Programming\"},\n",
        "    \"Discrete Math\": {},\n",
        "    \"Probability\": {\"Discrete Math\"},\n",
        "    \"Algorithms\": {\"Computer Systems\", \"Discrete Math\"},\n",
        "}"
      ]
    },
    {
      "cell_type": "markdown",
      "source": [
        "## Output\n",
        "\n",
        "Our output will be a course sequence. A student who follows the outputted sequence will be able to fulfill prerequisites in the correct order and graduate. There might be many valid sequences—returning one of them is enough. For the input above, a valid sequence is below.\n",
        "\n",
        "```\n",
        "1. Intro to Programming\n",
        "2. Discrete Math\n",
        "3. Computer Systems\n",
        "4. Probability\n",
        "5. Algorithms\n",
        "```\n",
        "\n",
        "If we cannot find a valid output, then we will return an error. "
      ],
      "metadata": {
        "id": "uhapZRVNOGr2"
      }
    },
    {
      "cell_type": "markdown",
      "source": [
        "## Inefficient solution\n",
        "\n",
        "Let's first explore a naive solution that does not use topological sorting. The approach is to generate all possible course sequences, and return the first one that fulfills prerequisites in the correct order.\n",
        "\n",
        "Here is some pseudocode for this solution."
      ],
      "metadata": {
        "id": "CKWpsUB8RhEC"
      }
    },
    {
      "cell_type": "markdown",
      "source": [
        "\n",
        "```\n",
        "S <- Set of all possible course sequences.\n",
        "\n",
        "for each sequence L in S do\n",
        "  T <- Empty set that will contain courses already taken.\n",
        "  F <- Flag that will keep track of whether or not we've\n",
        "        found a valid sequence. Initially set to true.\n",
        " \n",
        "  for each course C in L do\n",
        "    P <- Set of prerequisites for course C.\n",
        "    if P is a subset of T then\n",
        "      insert C into T\n",
        "      continue\n",
        "    else\n",
        "      F <- false\n",
        "      break\n",
        "  if F is true then\n",
        "    return L  # A valid course sequence.\n",
        "\n",
        "return error  # No valid course sequence could be found.\n",
        "```"
      ],
      "metadata": {
        "id": "T_RhPCvwH1OD"
      }
    },
    {
      "cell_type": "markdown",
      "source": [
        "The issue with this naive approach is that it is not particularly efficient. Let's discuss why.\n",
        "\n",
        "Let `n` represent the total number of courses. Then the inner loop would run in `O(n)` time.\n",
        "\n",
        "If `n` represents the number of courses, then there are `n!` possible permutations of courses. Each permutation corresponds to a unique sequence of courses. This means the outer loop needs to iterate over `n!` different elements. So the time complexity of our naive algorithm is `O(n * n!)` time. Let's see if we can do better than this."
      ],
      "metadata": {
        "id": "6Ui6XBD-2O1L"
      }
    },
    {
      "cell_type": "markdown",
      "source": [
        "## What is topological sorting?"
      ],
      "metadata": {
        "id": "DLMkCiy3dIzA"
      }
    },
    {
      "cell_type": "markdown",
      "source": [
        "Let's explore a different approach. First, let's try drawing a diagram showing the prerequisite relationships between courses in our catalog. If `Course B` requires `Course A`, we'll draw an arrow like this: `Course A -> Course B`. So for example, since `Computer Systems` requires `Intro to Programming`, we'll draw `Intro to Programming -> Computer Systems`."
      ],
      "metadata": {
        "id": "iYxu4BXC8e1K"
      }
    },
    {
      "cell_type": "markdown",
      "source": [
        "<img src=\"https://drive.google.com/uc?id=1Rtx4a4yZlDJ9DLsJ0mTIH3c8iOMAIMcf\" width=\"30%\" alt=\"Diagram of courses and their prerequisites.\"/>\n"
      ],
      "metadata": {
        "id": "bdxBPMA2Tybg"
      }
    },
    {
      "cell_type": "markdown",
      "source": [
        "### Directed acylic graphs (DAGs)\n",
        "\n",
        "This diagram can also be interpreted as a **graph**. Recall that computer scientists define a graph as a set of **nodes** and a set of **edges** between those nodes. In a directed graph, like the one above, edges are directional and represented as arrows.\n",
        "\n",
        "In fact, we can be even more specific about describing the graph above. It is actually a **directed acylic graph**, or **DAG** for short. A DAG is a special type of directed graph that does not contain any cycles. In other words, there are no closed loops within the graph. \n",
        "\n",
        "Why is this important? Imagine if there was a closed loop. "
      ],
      "metadata": {
        "id": "voPfJ2wZi7cn"
      }
    },
    {
      "cell_type": "markdown",
      "source": [
        "<img src=\"https://drive.google.com/uc?id=1tSNFbhr2uD92krwqDiksaxmeplUMT5Zg\" width=\"30%\" alt=\"Graph of courses and their prerequisites, where the edges form a cycle.\">\n"
      ],
      "metadata": {
        "id": "eB4fZh0k6hTE"
      }
    },
    {
      "cell_type": "markdown",
      "source": [
        "This graph is directed but contains a cycle. It is not a DAG. According to this graph, `Course C` requires `Course B`, and `Course B` requires `Course A`. But, `Course A` itself requires `Course C`! This is impossible. If your courses looks like this, you should probably complain to your advising department."
      ],
      "metadata": {
        "id": "DxRriJTRyxoR"
      }
    },
    {
      "cell_type": "markdown",
      "source": [
        "### Topological ordering\n",
        "\n",
        "We've established that the relationship between courses and their prerequisites can be represented as a DAG. An important property of a DAG is that it always has at least one **topological ordering**. A topological ordering of a graph is a list of nodes that, if visited in-order, ensures all arrows are \"followed\" in the right direction. For example, a topological ordering of the graph below is:\n",
        "\n",
        "```\n",
        "1. Intro to Programming\n",
        "2. Discrete Math\n",
        "3. Computer Systems\n",
        "4. Probability\n",
        "5. Algorithms\n",
        "```"
      ],
      "metadata": {
        "id": "R4zTJm9H0Vxe"
      }
    },
    {
      "cell_type": "markdown",
      "source": [
        "<img src=\"https://drive.google.com/uc?id=1Rtx4a4yZlDJ9DLsJ0mTIH3c8iOMAIMcf\" width=\"30%\" alt=\"Diagram of courses and their prerequisites.\"/>\n"
      ],
      "metadata": {
        "id": "OIkIjgEY7i0g"
      }
    },
    {
      "cell_type": "markdown",
      "source": [
        "Does this list look familiar to you? In fact, this is the example of a valid course sequence from earlier! It turns out that, in order to find a valid course sequence, we simply need to find a topological ordering of the graph."
      ],
      "metadata": {
        "id": "6sbvU1k07hDO"
      }
    },
    {
      "cell_type": "markdown",
      "source": [
        "### Implementation overview\n",
        "\n",
        "To find a topological ordering of a DAG, we need to perform a **topological sort**. A topological sort organizes the nodes of a graph into an ordered list. In this case, the order is determined by the following rule: if `Course A` is a prerequisite for `Course B`, then `Course A` must come before `Course B` in the list.\n",
        "\n",
        "There are a number of different ways to implement topological sorting. The Python graph library [`networkx`](https://networkx.org) uses an approach called Kahn's algorithm. Here is the pseudocode for the algorithm.\n",
        "\n",
        "```\n",
        "L <- Empty list that will contain the sorted nodes.\n",
        "S <- Set of all nodes with no incoming edges.\n",
        "\n",
        "while S is not empty do\n",
        "    remove a node N from S\n",
        "    add N to L\n",
        "    for each node M with an edge E from N to M do\n",
        "        remove edge E from the graph\n",
        "        if M has no other incoming edges then\n",
        "            insert M into S\n",
        "\n",
        "if graph has edges then\n",
        "    return error  # Graph has at least one cycle.\n",
        "else \n",
        "    return L  # A topologically sorted order.\n",
        "```\n",
        "\n",
        "The time complexity of Kahn's algorithm is `O(n + e)` where `n` is the number of nodes and `e` is the number of edges. This is because the algorithm explores each node and edge exactly once. This is a huge improvement over the `O(n * n!)` time complexity of the naive approach!"
      ],
      "metadata": {
        "id": "nxAWFxGq7yYl"
      }
    },
    {
      "cell_type": "markdown",
      "source": [
        "### Final solution\n",
        "\n",
        "Now that we understand the principles behind topological sorting, we can use it to write an efficient course-scheduling function. First, we need to build a DAG from the given course catalog. Next, we  need to find a topological ordering of the DAG. Luckily, `networkx` already provides most of the functionality we need. The solution code is below."
      ],
      "metadata": {
        "id": "PVVIEWJgD1y2"
      }
    },
    {
      "cell_type": "code",
      "source": [
        "import networkx\n",
        "from collections.abc import Collection, Mapping\n",
        "\n",
        "def build_graph(course_catalog: Mapping[str, Collection[str]]) -> networkx.DiGraph:\n",
        "  G = networkx.DiGraph()  # Create an empty directed graph.\n",
        "  for course, prereqs in course_catalog.items():\n",
        "    G.add_node(course)\n",
        "    for prereq in prereqs:\n",
        "      G.add_edge(prereq, course)\n",
        "  return G\n",
        "\n",
        "def find_course_sequence(course_catalog: Mapping[str, Collection[str]]) -> list[str]:\n",
        "  \"\"\"Finds a valid course sequence.\"\"\"\n",
        "  G = build_graph(course_catalog)\n",
        "  return list(networkx.topological_sort(G))\n",
        "  "
      ],
      "metadata": {
        "id": "PJZZG3rbEMuy"
      },
      "execution_count": 6,
      "outputs": []
    },
    {
      "cell_type": "code",
      "source": [
        "def display(course_sequence: list[str]) -> None:\n",
        "  for i, course in enumerate(course_sequence):\n",
        "    print(f\"{i + 1}. {course}\")\n",
        "\n",
        "display(find_course_sequence(course_catalog))"
      ],
      "metadata": {
        "colab": {
          "base_uri": "https://localhost:8080/"
        },
        "id": "ZvKrrA8QFMyB",
        "outputId": "6984b6f4-6737-4510-a32b-c193ba160c17"
      },
      "execution_count": 10,
      "outputs": [
        {
          "output_type": "stream",
          "name": "stdout",
          "text": [
            "1. Intro to Programming\n",
            "2. Discrete Math\n",
            "3. Computer Systems\n",
            "4. Probability\n",
            "5. Algorithms\n"
          ]
        }
      ]
    },
    {
      "cell_type": "markdown",
      "source": [
        "## Conclusion\n",
        "\n",
        "In summary, we have taken our course-scheduling problem and reframed it as finding a topological ordering over a DAG. We've shown how to use the topological sort algorithm to write an efficient and elegant solution, and compared its performance to a naive approach.\n",
        "\n",
        "In addition to course-scheduling, topological sorting can be applied to a wide variety of problems that involve process flows. Can you think of any other applications? Try it out for yourself!\n",
        "\n",
        "### Further reading\n",
        "For more details about the implementation of Kahn's algorithm, please refer to the official [`networkx` guide](https://networkx.org/nx-guides/content/algorithms/dag/index.html)."
      ],
      "metadata": {
        "id": "vmoM9kDgG8dO"
      }
    }
  ]
}