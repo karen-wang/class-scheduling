{
  "nbformat": 4,
  "nbformat_minor": 0,
  "metadata": {
    "colab": {
      "provenance": [],
      "authorship_tag": "ABX9TyOUG8U9vdTHMgW/2xiRiZm1",
      "include_colab_link": true
    },
    "kernelspec": {
      "name": "python3",
      "display_name": "Python 3"
    },
    "language_info": {
      "name": "python"
    }
  },
  "cells": [
    {
      "cell_type": "markdown",
      "metadata": {
        "id": "view-in-github",
        "colab_type": "text"
      },
      "source": [
        "<a href=\"https://colab.research.google.com/github/karen-wang/class-scheduling/blob/main/Using_Topological_Sort_to_Schedule_Classes_Efficiently.ipynb\" target=\"_parent\"><img src=\"https://colab.research.google.com/assets/colab-badge.svg\" alt=\"Open In Colab\"/></a>"
      ]
    },
    {
      "cell_type": "markdown",
      "source": [
        "# Using Topological Sort to Schedule Classes Efficiently\n",
        "*by Karen Y. Wang on April 6th, 2023*\n",
        "\n",
        "As a student, you probably have a list of classes that you need to take in order to graduate. Many of those classes also likely have prerequisites. Since you can't take a class before completing its prequisites, how do you figure out a valid sequence of classes to take? One approach uses an algorithm called **topological sorting**. In this tutorial, we will explain how to use topological sorting to write a class-scheduling Python function."
      ],
      "metadata": {
        "id": "HtESQew7I_vH"
      }
    },
    {
      "cell_type": "markdown",
      "source": [
        "## Overview\n",
        "\n",
        "### Audience\n",
        "\n",
        "This tutorial is intended for computer science students who are familiar with the following topics:\n",
        "- Combinatorics\n",
        "- Complexity analysis\n",
        "- Data structures, particularly graphs\n",
        "- Programming\n",
        "- Set theory"
      ],
      "metadata": {
        "id": "lsgiKd1P2VPA"
      }
    },
    {
      "cell_type": "markdown",
      "source": [
        "### What this tutorial covers\n",
        "- Explanation of what topological sorting is and why it's useful\n",
        "- Application of topological sorting to a class-scheduling problem\n",
        "\n",
        "### What this tutorial doesn't cover\n",
        "- Detailed implementation of topological sorting"
      ],
      "metadata": {
        "id": "Off6P9tP2nY-"
      }
    },
    {
      "cell_type": "markdown",
      "source": [
        "## Input\n",
        "\n",
        "Our input will be a Python dictionary representing a directory of classes required to graduate. The directory lists classes and their prequisites, if any."
      ],
      "metadata": {
        "id": "PIJquw8jLaY8"
      }
    },
    {
      "cell_type": "code",
      "execution_count": 3,
      "metadata": {
        "id": "7ZS0feN1I9AH"
      },
      "outputs": [],
      "source": [
        "class_directory = {\n",
        "    \"Intro to Programming\": [],\n",
        "    \"Computer Systems\": [\"Intro to Programming\"],\n",
        "    \"Discrete Math\": [],\n",
        "    \"Probability\": [\"Discrete Math\"],\n",
        "    \"Algorithms\": [\"Computer Systems\", \"Discrete Math\"],\n",
        "}"
      ]
    },
    {
      "cell_type": "markdown",
      "source": [
        "## Output\n",
        "\n",
        "Our output will be a class sequence. A student who follows the given class sequence should be able to fulfill all prequisites and graduate. There might be many valid sequences—returning one of them is enough. For the input above, a valid sequence is below.\n",
        "\n",
        "```\n",
        "1. Intro to Programming\n",
        "2. Discrete Math\n",
        "3. Computer Systems\n",
        "4. Probability\n",
        "5. Algorithms\n",
        "```"
      ],
      "metadata": {
        "id": "uhapZRVNOGr2"
      }
    },
    {
      "cell_type": "markdown",
      "source": [
        "## Inefficient solution\n",
        "\n",
        "Let's first explore a naive solution that does not use topological sorting and is relatively inefficient. The approach is to generate all possible class sequences, and return the first one that fulfills all prequisites.\n",
        "\n",
        "Here is some pseudocode for this solution."
      ],
      "metadata": {
        "id": "CKWpsUB8RhEC"
      }
    },
    {
      "cell_type": "markdown",
      "source": [
        "\n",
        "```\n",
        "S <- Set of all possible class sequences\n",
        "\n",
        "for each sequence L in S do\n",
        "  T <- Empty set that will contain classes already taken\n",
        "  F <- Flag that will keep track of whether we've found\n",
        "       a valid sequence. Initially set to true\n",
        " \n",
        "  for each class C in L do\n",
        "    P <- Set of prequisites for class C\n",
        "    if P is a subset of T then\n",
        "      insert C into T\n",
        "      continue\n",
        "    else\n",
        "      F <- false\n",
        "      break\n",
        "  if F is true then\n",
        "    return L  # A valid class sequence\n",
        "\n",
        "return error  # No valid class sequence could be found\n",
        "```"
      ],
      "metadata": {
        "id": "T_RhPCvwH1OD"
      }
    },
    {
      "cell_type": "markdown",
      "source": [
        "The issue with this naive approach is that it is not particularly efficient. Let's discuss why.\n",
        "\n",
        "Let `n` represent the total number of classes. Then the inner loop would run in `O(n)` time.\n",
        "\n",
        "If `n` represents the number of classes, then there are `n!` possible permutations of classes. Each permutation corresponds to a unique sequence of classes. This means the outer loop needs to iterate over `n!` different elements. So the time complexity of our naive algorithm is `O(n * n!)` time. Let's see if we can do better than this."
      ],
      "metadata": {
        "id": "6Ui6XBD-2O1L"
      }
    },
    {
      "cell_type": "markdown",
      "source": [
        "## What is topological sorting?"
      ],
      "metadata": {
        "id": "DLMkCiy3dIzA"
      }
    },
    {
      "cell_type": "markdown",
      "source": [
        "In order to think of a different approach, let's try drawing a diagram showing the relationship between classes and their prerequisites. If `Class B` has `Class A` as a prequisite, we'll draw an arrow like this: `Class A -> Class B`."
      ],
      "metadata": {
        "id": "iYxu4BXC8e1K"
      }
    },
    {
      "cell_type": "markdown",
      "source": [
        "<img src=\"https://drive.google.com/uc?id=1Rtx4a4yZlDJ9DLsJ0mTIH3c8iOMAIMcf\" width=\"30%\" alt=\"Diagram of classes and their prerequisites.\"/>\n"
      ],
      "metadata": {
        "id": "bdxBPMA2Tybg"
      }
    },
    {
      "cell_type": "markdown",
      "source": [
        "### Directed acylic graphs (DAGs)\n",
        "\n",
        "This diagram can also be interpreted as a **graph**. Recall that computer scientists define a graph as a set of **nodes** and a set of **edges** between those nodes. In a directed graph, like the one above, edges are directional and are represented as arrows.\n",
        "\n",
        "In fact, we can be even more specific about describing the graph above. It is actually a **directed acylic graph**, or **DAG** for short. A DAG is a special type of directed graph that does not contain any cycles. In other words, there are no closed loops within the graph. \n",
        "\n",
        "Why is this important? Imagine if there was a closed loop in a graph of classes and their prerequisites. "
      ],
      "metadata": {
        "id": "voPfJ2wZi7cn"
      }
    },
    {
      "cell_type": "markdown",
      "source": [
        "<img src=\"https://drive.google.com/uc?id=1FLZZnfFB2tkeKtimh5L56DQOdEJvObS0\" width=\"30%\" alt=\"Graph of classes and their prerequisites, where the edges form a cycle.\">\n"
      ],
      "metadata": {
        "id": "eB4fZh0k6hTE"
      }
    },
    {
      "cell_type": "markdown",
      "source": [
        "This graph is directed but contains a cycle. It is not a DAG. According to this graph, you would need to take `Class A` before `Class B`, and `Class B` before `Class C`. But, you would also need to take `Class C` before `Class A`! This is impossible. If your class sequence looks like this, you should probably complain to your advising department."
      ],
      "metadata": {
        "id": "DxRriJTRyxoR"
      }
    },
    {
      "cell_type": "markdown",
      "source": [
        "### Topological ordering\n",
        "\n",
        "We've established that the relationship between classes and their prerequisites can be represented as a DAG. An important property of a DAG is that it always has at least one **topological ordering**. A topological ordering of a graph is a list of nodes that, if visited in-order, ensures that all arrows are \"followed\" in the right direction. For example, a topological ordering of the graph below is:\n",
        "\n",
        "```\n",
        "1. Intro to Programming\n",
        "2. Discrete Math\n",
        "3. Computer Systems\n",
        "4. Probability\n",
        "5. Algorithms\n",
        "```"
      ],
      "metadata": {
        "id": "R4zTJm9H0Vxe"
      }
    },
    {
      "cell_type": "markdown",
      "source": [
        "<img src=\"https://drive.google.com/uc?id=1Rtx4a4yZlDJ9DLsJ0mTIH3c8iOMAIMcf\" width=\"30%\" alt=\"Diagram of classes and their prerequisites.\"/>\n"
      ],
      "metadata": {
        "id": "OIkIjgEY7i0g"
      }
    },
    {
      "cell_type": "markdown",
      "source": [
        "Does this list look familiar to you? In fact, this is the  class sequence from earlier! It turns out that, in order to find a valid class sequence, we simply need to find a topological ordering of the graph of classes and their prerequisites."
      ],
      "metadata": {
        "id": "6sbvU1k07hDO"
      }
    },
    {
      "cell_type": "markdown",
      "source": [
        "### Implementation overview\n",
        "\n",
        "To find a topological ordering of a DAG, we need to perform a **topological sort**. A topological sort organizes the nodes of a graph into an ordered list. In this case, the order is determined by the following rule: if `Class A` is a prequisite for `Class B`, then `Class A` must come before `Class B` in the list.\n",
        "\n",
        "There are a number of different ways to implement topological sorting. The Python graph library [`networkx`](https://networkx.org) uses an approach called Kahn's algorithm. Here is the pseudocode for the algorithm.\n",
        "\n",
        "```\n",
        "L <- Empty list that will contain the sorted nodes\n",
        "S <- Set of all nodes with no incoming edges\n",
        "\n",
        "while S is not empty do\n",
        "    remove a node N from S\n",
        "    add N to L\n",
        "    for each node M with an edge E from N to M do\n",
        "        remove edge E from the graph\n",
        "        if M has no other incoming edges then\n",
        "            insert M into S\n",
        "\n",
        "if graph has edges then\n",
        "    return error  # Graph has at least one cycle\n",
        "else \n",
        "    return L  # A topologically sorted order\n",
        "```\n",
        "\n",
        "The time complexity of Kahn's algorithm is `O(n + e)` where `n` is the number of nodes and `e` is the number of edges. This is because the algorithm explores each node and edge exactly once. This is an improvement over the `O(n * n!)` time complexity of the naive approach."
      ],
      "metadata": {
        "id": "nxAWFxGq7yYl"
      }
    },
    {
      "cell_type": "markdown",
      "source": [
        "### Final solution\n",
        "\n",
        "Now that we understand the principles behind topological sorting, we can use it to write an efficient class-scheduling function. We'll use the `networkx` library to build a DAG from the given class directory and sort it topologically."
      ],
      "metadata": {
        "id": "PVVIEWJgD1y2"
      }
    },
    {
      "cell_type": "code",
      "source": [
        "import networkx\n",
        "from typing import Collection, List, Mapping\n",
        "\n",
        "def build_graph(class_directory: Mapping[str, Collection[str]]) -> networkx.DiGraph:\n",
        "  G = networkx.DiGraph()  # Create an empty directed graph.\n",
        "  for classname, prereqs in class_directory.items():\n",
        "    G.add_node(classname)\n",
        "    for prereq in prereqs:\n",
        "      G.add_edge(prereq, classname)\n",
        "  return G\n",
        "\n",
        "def find_class_sequence(class_directory: Mapping[str, Collection[str]]) -> List[str]:\n",
        "  \"\"\"Finds a valid class sequence.\"\"\"\n",
        "  G = build_graph(class_directory)\n",
        "  return list(networkx.topological_sort(G))\n",
        "  "
      ],
      "metadata": {
        "id": "PJZZG3rbEMuy"
      },
      "execution_count": 4,
      "outputs": []
    },
    {
      "cell_type": "code",
      "source": [
        "def display(class_sequence: List[str]) -> None:\n",
        "  for i, classname in enumerate(class_sequence):\n",
        "    print(\"{0}. {1}\".format(i + 1, classname))\n",
        "\n",
        "display(find_class_sequence(class_directory))"
      ],
      "metadata": {
        "colab": {
          "base_uri": "https://localhost:8080/"
        },
        "id": "ZvKrrA8QFMyB",
        "outputId": "1ed418ed-36bb-42e8-e897-c8722f11c238"
      },
      "execution_count": 5,
      "outputs": [
        {
          "output_type": "stream",
          "name": "stdout",
          "text": [
            "1. Intro to Programming\n",
            "2. Discrete Math\n",
            "3. Computer Systems\n",
            "4. Probability\n",
            "5. Algorithms\n"
          ]
        }
      ]
    },
    {
      "cell_type": "markdown",
      "source": [
        "## Conclusion\n",
        "\n",
        "In summary, we have taken our original class-scheduling problem and reframed it as finding a topological ordering over a DAG. We've shown how to use the topological sort algorithm to write an efficient and elegant solution, and compared its performance to a naive approach.\n",
        "\n",
        "In addition to scheduling classes, topological sorting can be applied to a wide variety of problems that involve process flows. Can you think of any other applications? Try it out for yourself!\n",
        "\n",
        "### Further reading\n",
        "For more details about the implementation of Kahn's algorithm, please refer to the official [`networkx` guide](https://networkx.org/nx-guides/content/algorithms/dag/index.html)."
      ],
      "metadata": {
        "id": "vmoM9kDgG8dO"
      }
    }
  ]
}